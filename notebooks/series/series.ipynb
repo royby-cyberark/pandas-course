{
 "cells": [
  {
   "cell_type": "markdown",
   "id": "51e193ef",
   "metadata": {},
   "source": [
    "# Series\n",
    "A Pandas Series is like a column in a table. It is a one-dimensional array holding data of any type. \n",
    "simply put a series combines the best of py list and dict - is able to a column in order with an index (like a list), but can also keep a unique id for each element."
   ]
  },
  {
   "cell_type": "code",
   "execution_count": 18,
   "id": "37ab1a48",
   "metadata": {},
   "outputs": [],
   "source": [
    "import pandas as pd"
   ]
  },
  {
   "cell_type": "code",
   "execution_count": 19,
   "id": "1b2ba811",
   "metadata": {},
   "outputs": [
    {
     "data": {
      "text/plain": [
       "0     chocolate\n",
       "1       vanilla\n",
       "2    rum raisin\n",
       "3    strawberry\n",
       "dtype: object"
      ]
     },
     "execution_count": 19,
     "metadata": {},
     "output_type": "execute_result"
    }
   ],
   "source": [
    "ice_cream = [\"chocolate\", \"vanilla\", \"rum raisin\", \"strawberry\"]\n",
    "sl = pd.Series(data=ice_cream)\n",
    "sl"
   ]
  },
  {
   "cell_type": "code",
   "execution_count": 20,
   "id": "06cd18b6",
   "metadata": {},
   "outputs": [
    {
     "data": {
      "text/plain": [
       "'chocolate'"
      ]
     },
     "execution_count": 20,
     "metadata": {},
     "output_type": "execute_result"
    }
   ],
   "source": [
    "sl[0]"
   ]
  },
  {
   "cell_type": "code",
   "execution_count": 21,
   "id": "b34a385a",
   "metadata": {},
   "outputs": [
    {
     "data": {
      "text/plain": [
       "Salmon    Orange\n",
       "Tuna         Red\n",
       "Eel        Brown\n",
       "dtype: object"
      ]
     },
     "execution_count": 21,
     "metadata": {},
     "output_type": "execute_result"
    }
   ],
   "source": [
    "sushi = {\n",
    "    'Salmon': 'Orange',\n",
    "    'Tuna': 'Red',\n",
    "    'Eel': 'Brown'\n",
    "}\n",
    "\n",
    "sd = pd.Series(data=sushi)\n",
    "sd"
   ]
  },
  {
   "cell_type": "code",
   "execution_count": 22,
   "id": "6f7ad774",
   "metadata": {},
   "outputs": [
    {
     "data": {
      "text/plain": [
       "'Orange'"
      ]
     },
     "execution_count": 22,
     "metadata": {},
     "output_type": "execute_result"
    }
   ],
   "source": [
    "sd['Salmon']"
   ]
  },
  {
   "cell_type": "code",
   "execution_count": 23,
   "id": "ac59de9a",
   "metadata": {},
   "outputs": [
    {
     "data": {
      "text/plain": [
       "'Orange'"
      ]
     },
     "execution_count": 23,
     "metadata": {},
     "output_type": "execute_result"
    }
   ],
   "source": [
    "sd[0]"
   ]
  },
  {
   "cell_type": "code",
   "execution_count": 24,
   "id": "308fdf93",
   "metadata": {},
   "outputs": [
    {
     "data": {
      "text/plain": [
       "0    2.99\n",
       "1    4.45\n",
       "2    1.36\n",
       "dtype: float64"
      ]
     },
     "execution_count": 24,
     "metadata": {},
     "output_type": "execute_result"
    }
   ],
   "source": [
    "prices = pd.Series([2.99, 4.45, 1.36])\n",
    "prices"
   ]
  },
  {
   "cell_type": "code",
   "execution_count": 25,
   "id": "59a39861",
   "metadata": {},
   "outputs": [
    {
     "data": {
      "text/plain": [
       "8.8"
      ]
     },
     "execution_count": 25,
     "metadata": {},
     "output_type": "execute_result"
    }
   ],
   "source": [
    "prices.sum()\n"
   ]
  },
  {
   "cell_type": "code",
   "execution_count": 26,
   "id": "62f69b58",
   "metadata": {},
   "outputs": [
    {
     "data": {
      "text/plain": [
       "18.095480000000006"
      ]
     },
     "execution_count": 26,
     "metadata": {},
     "output_type": "execute_result"
    }
   ],
   "source": [
    "prices.product()"
   ]
  },
  {
   "cell_type": "code",
   "execution_count": 27,
   "id": "f3c82850",
   "metadata": {},
   "outputs": [
    {
     "data": {
      "text/plain": [
       "2.9333333333333336"
      ]
     },
     "execution_count": 27,
     "metadata": {},
     "output_type": "execute_result"
    }
   ],
   "source": [
    "prices.mean()"
   ]
  },
  {
   "cell_type": "code",
   "execution_count": 28,
   "id": "e5658954",
   "metadata": {},
   "outputs": [
    {
     "data": {
      "text/plain": [
       "3"
      ]
     },
     "execution_count": 28,
     "metadata": {},
     "output_type": "execute_result"
    }
   ],
   "source": [
    "prices.size"
   ]
  },
  {
   "cell_type": "code",
   "execution_count": 29,
   "id": "b841ff1d",
   "metadata": {},
   "outputs": [
    {
     "data": {
      "text/plain": [
       "True"
      ]
     },
     "execution_count": 29,
     "metadata": {},
     "output_type": "execute_result"
    }
   ],
   "source": [
    "prices.is_unique\n"
   ]
  },
  {
   "cell_type": "code",
   "execution_count": 30,
   "id": "075d75fe",
   "metadata": {},
   "outputs": [
    {
     "data": {
      "text/plain": [
       "False"
      ]
     },
     "execution_count": 30,
     "metadata": {},
     "output_type": "execute_result"
    }
   ],
   "source": [
    "prices2 = pd.Series([2.99, 2.99, 4.45, 1.36])\n",
    "prices2.is_unique"
   ]
  },
  {
   "cell_type": "code",
   "execution_count": 31,
   "id": "89316f76",
   "metadata": {},
   "outputs": [
    {
     "data": {
      "text/plain": [
       "array([2.99, 4.45, 1.36])"
      ]
     },
     "execution_count": 31,
     "metadata": {},
     "output_type": "execute_result"
    }
   ],
   "source": [
    "# numpy nd array which stores the values themselves\n",
    "prices.values"
   ]
  },
  {
   "cell_type": "code",
   "execution_count": 32,
   "id": "e30fd317",
   "metadata": {},
   "outputs": [
    {
     "data": {
      "text/plain": [
       "numpy.ndarray"
      ]
     },
     "execution_count": 32,
     "metadata": {},
     "output_type": "execute_result"
    }
   ],
   "source": [
    "type(prices.values)"
   ]
  },
  {
   "cell_type": "code",
   "execution_count": 33,
   "id": "7d3f7ef2",
   "metadata": {},
   "outputs": [
    {
     "data": {
      "text/plain": [
       "RangeIndex(start=0, stop=3, step=1)"
      ]
     },
     "execution_count": 33,
     "metadata": {},
     "output_type": "execute_result"
    }
   ],
   "source": [
    "prices.index"
   ]
  },
  {
   "cell_type": "code",
   "execution_count": 34,
   "id": "7c66398d",
   "metadata": {},
   "outputs": [
    {
     "data": {
      "text/plain": [
       "dtype('float64')"
      ]
     },
     "execution_count": 34,
     "metadata": {},
     "output_type": "execute_result"
    }
   ],
   "source": [
    "prices.dtype"
   ]
  },
  {
   "cell_type": "markdown",
   "id": "a5c36b8b",
   "metadata": {},
   "source": [
    "#### Looking at docs\n",
    "    In a function parens, shift+tab to open the docstring"
   ]
  },
  {
   "cell_type": "code",
   "execution_count": 35,
   "id": "b2e6aeb5",
   "metadata": {
    "scrolled": true
   },
   "outputs": [
    {
     "data": {
      "text/plain": [
       "3"
      ]
     },
     "execution_count": 35,
     "metadata": {},
     "output_type": "execute_result"
    }
   ],
   "source": [
    "pd.Series()"
   ]
  },
  {
   "cell_type": "code",
   "execution_count": null,
   "id": "ec4ed507",
   "metadata": {},
   "outputs": [],
   "source": []
  }
 ],
 "metadata": {
  "kernelspec": {
   "display_name": "Python 3 (ipykernel)",
   "language": "python",
   "name": "python3"
  },
  "language_info": {
   "codemirror_mode": {
    "name": "ipython",
    "version": 3
   },
   "file_extension": ".py",
   "mimetype": "text/x-python",
   "name": "python",
   "nbconvert_exporter": "python",
   "pygments_lexer": "ipython3",
   "version": "3.8.9"
  }
 },
 "nbformat": 4,
 "nbformat_minor": 5
}
